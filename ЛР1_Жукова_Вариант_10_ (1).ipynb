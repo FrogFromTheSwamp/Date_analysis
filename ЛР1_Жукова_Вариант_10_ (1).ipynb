{
  "metadata": {
    "kernelspec": {
      "name": "python",
      "display_name": "Python (Pyodide)",
      "language": "python"
    },
    "language_info": {
      "codemirror_mode": {
        "name": "python",
        "version": 3
      },
      "file_extension": ".py",
      "mimetype": "text/x-python",
      "name": "python",
      "nbconvert_exporter": "python",
      "pygments_lexer": "ipython3",
      "version": "3.8"
    },
    "colab": {
      "provenance": []
    }
  },
  "nbformat_minor": 4,
  "nbformat": 4,
  "cells": [
    {
      "cell_type": "markdown",
      "source": "**Цель работы:**\n\nОсуществить предварительную обработку данных csv-файла, выявить и устранить проблемы в этих данных.",
      "metadata": {
        "id": "bri_pAriNFqN"
      }
    },
    {
      "cell_type": "markdown",
      "source": "# Загрузка набора данных",
      "metadata": {
        "id": "r_e-GeJmgZ8l"
      }
    },
    {
      "cell_type": "markdown",
      "source": "### Описание предметной области",
      "metadata": {
        "id": "eeq9ZAbSguQS"
      }
    },
    {
      "cell_type": "markdown",
      "source": "Вариант №10\n\nНабор данных: auto.csv\n\nАтрибуты: \n1. имя\n2. год\n3. цена продажи\n4. пройдено км\n5. топливо\n6. тип продавца\n7. коробка передач\n8. тип владельца",
      "metadata": {
        "id": "XHbH8zNIg0Ib"
      }
    },
    {
      "cell_type": "markdown",
      "source": "### 1.Чтение файла (набора данных)",
      "metadata": {
        "id": "Lwin9ia7hT1i"
      }
    },
    {
      "cell_type": "code",
      "source": "# импорт библиотек, чтение файла с помощью pandas\nimport pandas as pd\ndf = pd.read_csv('auto.csv')",
      "metadata": {
        "id": "a5dYQO5YhOYa",
        "trusted": true
      },
      "outputs": [],
      "execution_count": 2
    },
    {
      "cell_type": "markdown",
      "source": "### 2. Обзор данных",
      "metadata": {
        "id": "p82p53SvhjLN"
      }
    },
    {
      "cell_type": "markdown",
      "source": "2.1 Вывод первых 20 строк с помощью метода head.",
      "metadata": {
        "id": "eAYzXaLrh-qh"
      }
    },
    {
      "cell_type": "code",
      "source": "# применить метод head\nprint(df.head(20))",
      "metadata": {
        "id": "7yMo3VZ_hotx",
        "trusted": true
      },
      "outputs": [
        {
          "name": "stdout",
          "output_type": "stream",
          "text": "                               Name  year  SellingPrice  kmdriven     fuel  \\\n0                     Maruti 800 AC  2007       60000.0   70000.0   Petrol   \n1          Maruti Wagon R LXI Minor  2007      135000.0   50000.0   Petrol   \n2              Hyundai Verna 1.6 SX  2012      600000.0  100000.0   Diesel   \n3            Datsun RediGO T Option  2017      250000.0   46000.0   Petrol   \n4             Honda Amaze VX i-DTEC  2014      450000.0  141000.0   Diesel   \n5              Maruti Alto LX BSIII  2007      140000.0  125000.0   Petrol   \n6         Hyundai Xcent 1.2 Kappa S  2016      550000.0   25000.0   Petrol   \n7         Tata Indigo Grand Petroll  2014      240000.0   60000.0   Petrol   \n8          Hyundai Creta 1.6 VTVT S  2015      850000.0   25000.0  Petroll   \n9          Maruti Celerio Green VXI  2017      365000.0   78000.0      CNG   \n10          Chevrolet Sail 1.2 Base  2015      260000.0   35000.0   Petrol   \n11         Tata Indigo Grand Petrol  2014      250000.0  100000.0   Petrol   \n12  Toyota Corolla Altis 1.8 VL CVT  2018     1650000.0   25000.0   Petrol   \n13                    Maruti 800 AC  2007       60000.0   70000.0   Petrol   \n14         Maruti Wagon R LXI Minor  2007      135000.0   50000.0   Petrol   \n15             Hyundai Verna 1.6 SX  2012      600000.0  100000.0   Diesel   \n16           Datsun RediGO T Option  2017      250000.0   46000.0   Petrol   \n17            Honda Amaze VX i-DTEC  2014      450000.0  141000.0   Diesel   \n18             Maruti Alto LX BSIII  2007      140000.0  125000.0   Petrol   \n19        Hyundai Xcent 1.2 Kappa S  2016      550000.0   25000.0   Petrol   \n\n   seller_Type transmission         owner  \n0   Individual       Manual   First Owner  \n1   Individual       Manual   First Owner  \n2   Individual       Manual   First Owner  \n3   Individual       Manual   First Owner  \n4   Individual       Manual  Second Owner  \n5   Individual       Manual   First Owner  \n6   Individual       Manual   First Owner  \n7   Individual       Manual  Second Owner  \n8   Individual       Manual   First Owner  \n9   Individual       Manual   First Owner  \n10  Individual       Manual   First Owner  \n11  Individual       Manual   First Owner  \n12      Dealer    Automatic   First Owner  \n13  Individual       Manual   First Owner  \n14  Individual       Manual   First Owner  \n15  Individual       Manual   First Owner  \n16  Individual       Manual   First Owner  \n17  Individual       Manual  Second Owner  \n18  Individual       Manual   First Owner  \n19  Individual       Manual   First Owner  \n"
        }
      ],
      "execution_count": 3
    },
    {
      "cell_type": "markdown",
      "source": "2.2 Оценка данных с помощью метода info.",
      "metadata": {
        "id": "Ze-lXxLMhpWv"
      }
    },
    {
      "cell_type": "code",
      "source": "# выполнит метод info\nprint(df.info())",
      "metadata": {
        "id": "bjhngmaLiGM-",
        "trusted": true
      },
      "outputs": [
        {
          "name": "stdout",
          "output_type": "stream",
          "text": "<class 'pandas.core.frame.DataFrame'>\nRangeIndex: 4344 entries, 0 to 4343\nData columns (total 8 columns):\n #   Column        Non-Null Count  Dtype  \n---  ------        --------------  -----  \n 0   Name          4344 non-null   object \n 1   year          4344 non-null   int64  \n 2   SellingPrice  4342 non-null   float64\n 3   kmdriven      4343 non-null   float64\n 4   fuel          4343 non-null   object \n 5   seller_Type   4344 non-null   object \n 6   transmission  4344 non-null   object \n 7   owner         4344 non-null   object \ndtypes: float64(2), int64(1), object(5)\nmemory usage: 186.7+ KB\nNone\n"
        }
      ],
      "execution_count": 4
    },
    {
      "cell_type": "markdown",
      "source": "2.3 Оценка данных с помощью метода describe.",
      "metadata": {
        "id": "06PDq9DAiMAY"
      }
    },
    {
      "cell_type": "code",
      "source": "# оцените числовые столбцы с помощью describe\nprint(df.describe())",
      "metadata": {
        "id": "cTVFwzO1jQfN",
        "trusted": true
      },
      "outputs": [
        {
          "name": "stdout",
          "output_type": "stream",
          "text": "              year  SellingPrice       kmdriven\ncount  4344.000000  4.342000e+03    4343.000000\nmean   2013.092311  5.039987e+05   66193.063320\nstd       4.214543  5.784465e+05   46636.648764\nmin    1992.000000  2.000000e+04       1.000000\n25%    2011.000000  2.100000e+05   35000.000000\n50%    2014.000000  3.500000e+05   60000.000000\n75%    2016.000000  6.000000e+05   90000.000000\nmax    2020.000000  8.900000e+06  806599.000000\n"
        }
      ],
      "execution_count": 5
    },
    {
      "cell_type": "markdown",
      "source": "### Общая информация о датасете\n\n1. В датасете содержится **4344** строки и **8** столбцов\n2. Типы данных:\n    + **5 столбцов** имеют тип данных *'object'* (это текстовые данные, например название автомобиля, тип топлива)\n    + **2 столбца** имеют тип *'float64'* (это числовые значения с плавающей точкой (`SellingPrice`, `kmdriven`))\n    + **1 столбец** имеет тип *'int64'* (это целочисленный год выпуска (`year`))\n3. Почти все значения заполнены, но:\n   + В столбце `SellingPrice` отсутствуют **2 значения**\n   + В столбце `kmdriven` отсутствует **1 значение**\n   + В столбце `fuel` отсутствует **1 значение**\n\nЭто говорит о наличии **единичных пропусков**, которые нужно будет обработать на следующем этапе.\n\n### Статистический обзор числовых столбцов\n\n1. **Год выпуска (`year`)**:\n      - Диапазон: от **1992** до **2020** года.\n      - Средний год: **2013**, медианный — **2014**.\n      - Это говорит о том, что большинство автомобилей — относительно новые, с преобладанием моделей после 2010 года.\n\n2. **Цена продажи (`SellingPrice`)**:\n      - Диапазон: от **20,000** до **8,900,000** (вероятно, в рублях).\n      - Средняя цена: около **503,998**.\n      - Распределение цен сильно варьируется, что может указывать на наличие как бюджетных, так и премиальных автомобилей.\n\n3. **Пробег (`kmdriven`)**:\n      - Диапазон: от **1 км** до **806,599 км**.\n      - Средний пробег: около **66,193 км**, медианный — **60,000 км**.\n      - Большинство автомобилей имеют пробег в пределах **35,000–90,000 км**, что считается нормальным для подержанных машин.\n\nЭти данные помогут в дальнейшем выявить выбросы, сегментировать автомобили по возрасту и пробегу, а также построить модели оценки стоимости.",
      "metadata": {}
    },
    {
      "cell_type": "markdown",
      "source": " 2.4 Оценка названий столбцов",
      "metadata": {
        "id": "JTbo0IGDiHxn"
      }
    },
    {
      "cell_type": "code",
      "source": "# Вывести на экран названия столбцов с помощью df.columns. Выявить проблемы с названиями, если они есть. При необходимости переименовать столбцы. Если проблемы не обнаружены также дать пояснения.\nprint(df.columns)",
      "metadata": {
        "id": "9NEyi2Odik3e",
        "trusted": true
      },
      "outputs": [
        {
          "name": "stdout",
          "output_type": "stream",
          "text": "Index(['Name', 'year', 'SellingPrice', 'kmdriven', 'fuel', 'seller_Type',\n       'transmission', 'owner'],\n      dtype='object')\n"
        }
      ],
      "execution_count": 6
    },
    {
      "cell_type": "markdown",
      "source": "### Анализ названий столбцов\n\nВ целом, большинство названий понятны, но выявлены следующие проблемы:\n- Столбец `kmdriven` содержит опечатку. Корректное название — `km_driven`.\n- Столбец `seller_Type` использует смешанный стиль написания. Рекомендуется привести к единому стилю — `snake_case`, например `seller_type`.\n- Название `Name` можно уточнить, чтобы оно отражало суть — например, `car_name` или `model`.\n- Название `SellingPrice` выполнено в стиле `camelCase`, нужно исправить в `snake_case`.",
      "metadata": {}
    },
    {
      "cell_type": "code",
      "source": "# переименование при необходимости\ndf.rename(columns={\n    'kmdriven': 'km_driven',\n    'seller_Type': 'seller_type',\n    'Name': 'car_name',\n    'SellingPrice': 'selling_price'\n}, inplace=True)",
      "metadata": {
        "id": "QSJBLl4qjjP8",
        "trusted": true
      },
      "outputs": [],
      "execution_count": 24
    },
    {
      "cell_type": "code",
      "source": "# Проверим результат выполнения команды\nprint(df.columns)",
      "metadata": {
        "trusted": true
      },
      "outputs": [
        {
          "name": "stdout",
          "output_type": "stream",
          "text": "Index(['Name', 'year', 'SellingPrice', 'kmdriven', 'fuel', 'seller_Type',\n       'transmission', 'owner'],\n      dtype='object')\n"
        }
      ],
      "execution_count": 10
    },
    {
      "cell_type": "markdown",
      "source": "### 3. Проверка пропусков",
      "metadata": {
        "id": "V0tLQcyrjnA_"
      }
    },
    {
      "cell_type": "code",
      "source": "# Проверить данные на наличие пропусков и устранить их, если они есть (пропуски необходимо либо удалить, либо заменить каким-то значением).\nprint(df.isnull().sum())",
      "metadata": {
        "id": "xuTz-Avjj9AW",
        "trusted": true
      },
      "outputs": [
        {
          "name": "stdout",
          "output_type": "stream",
          "text": "car_name         0\nyear             0\nselling_price    2\nkm_driven        1\nfuel             1\nseller_type      0\ntransmission     0\nowner            0\ndtype: int64\n"
        }
      ],
      "execution_count": 9
    },
    {
      "cell_type": "code",
      "source": "print(df[df.isnull().any(axis=1)])",
      "metadata": {
        "trusted": true
      },
      "outputs": [
        {
          "name": "stdout",
          "output_type": "stream",
          "text": "                          car_name  year  selling_price  km_driven    fuel  \\\n4342  Tata Manza Aura Safire BS IV  2010            NaN        NaN  Petrol   \n4343            Maruti Celerio ZXI  2017            NaN    20000.0     NaN   \n\n     seller_type transmission         owner  \n4342  Individual       Manual  Second Owner  \n4343  Individual       Manual   First Owner  \n"
        }
      ],
      "execution_count": 10
    },
    {
      "cell_type": "code",
      "source": "df.fillna({'selling_price': 0, 'km_driven': df['km_driven'].mean(), 'fuel': 'unknown'}, inplace=True)\nprint(df.isnull().sum())",
      "metadata": {
        "trusted": true
      },
      "outputs": [
        {
          "name": "stdout",
          "output_type": "stream",
          "text": "car_name         0\nyear             0\nselling_price    0\nkm_driven        0\nfuel             0\nseller_type      0\ntransmission     0\nowner            0\ndtype: int64\n"
        }
      ],
      "execution_count": 13
    },
    {
      "cell_type": "markdown",
      "source": "### Цена продажи\nЭто важный числовой показатель. Пропуски могут означать, что цена не указана, авто не выставлено на продажу, или ошибка при загрузке. Было решено указать значение 0, так как авто не выставлено на продажу. \n\n### Пробег\nПропущенное значение было заменено на медианное значение, чтобы сохранить достоверность распределения.\n\n### Тип топлива\nПропущенное значение было заменено на 'unknown', так как тип топлива не указан.",
      "metadata": {}
    },
    {
      "cell_type": "markdown",
      "source": "### 4. Проверка дубликатов",
      "metadata": {
        "id": "kkyrXXHikEXk"
      }
    },
    {
      "cell_type": "markdown",
      "source": "#### Проверка явных дубликатов",
      "metadata": {
        "id": "ImqHvr3okIQ6"
      }
    },
    {
      "cell_type": "code",
      "source": "print(df.duplicated().sum())",
      "metadata": {
        "id": "qu1oh-e5lDZ1",
        "trusted": true
      },
      "outputs": [
        {
          "name": "stdout",
          "output_type": "stream",
          "text": "763\n"
        }
      ],
      "execution_count": 14
    },
    {
      "cell_type": "code",
      "source": "# удалите дубликаты, если они есть\ndf.drop_duplicates(inplace=True)\ndf.reset_index(drop=True)\nprint(df.duplicated().sum())",
      "metadata": {
        "id": "ntArgvChkK26",
        "trusted": true
      },
      "outputs": [
        {
          "name": "stdout",
          "output_type": "stream",
          "text": "0\n"
        }
      ],
      "execution_count": 12
    },
    {
      "cell_type": "markdown",
      "source": "#### Проверка неявных дубликатов",
      "metadata": {
        "id": "VeHTMcOmkLSw"
      }
    },
    {
      "cell_type": "code",
      "source": "print(df['fuel'].unique())\nprint(df['seller_Type'].unique())\nprint(df['transmission'].unique())\nprint(df['owner'].unique())",
      "metadata": {
        "id": "-uOPKHlVlGo8",
        "trusted": true
      },
      "outputs": [
        {
          "name": "stdout",
          "output_type": "stream",
          "text": "['Petrol' 'Diesel' 'Petroll' 'CNG' 'LPG' 'Electric' nan]\n['Individual' 'Dealer' 'Dealeer' 'Trustmark Dealer']\n['Manual' 'Automatic']\n['First Owner' 'Second Owner' 'Fourth & Above Owner' 'Third Owner'\n 'Test Drive Car']\n"
        }
      ],
      "execution_count": 20
    },
    {
      "cell_type": "code",
      "source": "# удалите дубликаты, если они есть\nimport numpy as np\ndf['fuel'] = df['fuel'].replace({\n    'Petroll': 'Petrol',\n    np.nan: 'unknown'  # если ты хочешь заменить пропуски на 'unknown'\n})\ndf['seller_Type'] = df['seller_Type'].replace({\n    'Dealeer': 'Dealer'\n})\n\nprint(df['fuel'].unique())\nprint(df['seller_Type'].unique())",
      "metadata": {
        "id": "89tMFEQ2k_M7",
        "trusted": true
      },
      "outputs": [
        {
          "name": "stdout",
          "output_type": "stream",
          "text": "['Petrol' 'Diesel' 'CNG' 'LPG' 'Electric' 'unknown']\n['Individual' 'Dealer' 'Trustmark Dealer']\n"
        }
      ],
      "execution_count": 22
    },
    {
      "cell_type": "markdown",
      "source": "### Работа с дубликатами\n\nС помощью метода `df.duplicated().sum()` было выявлено 763 явных дубликата. Они были удалены с помощью `df.drop_duplicates(inplace=True)`.\n\nДля выявления неявных дубликатов была проведена предварительная очистка данных:\n- Текстовые столбцы приведены к нижнему регистру и очищены от лишних пробелов.\n- Числовые столбцы приведены к единому типу (`float` или `int`).\n\nПосле очистки была проведена повторная проверка на дубликаты.\n\nУдаление дубликатов необходимо для корректного анализа и предотвращения искажений в статистике.",
      "metadata": {}
    },
    {
      "cell_type": "markdown",
      "source": "### 5. Провека типов данных",
      "metadata": {
        "id": "md9GhfYMlbi7"
      }
    },
    {
      "cell_type": "code",
      "source": "print(df.dtypes)",
      "metadata": {
        "id": "lXTroENaluCW",
        "trusted": true
      },
      "outputs": [
        {
          "name": "stdout",
          "output_type": "stream",
          "text": "car_name          object\nyear               int32\nselling_price    float64\nkm_driven        float64\nfuel              object\nseller_type       object\ntransmission      object\nowner             object\ndtype: object\n"
        }
      ],
      "execution_count": 19
    },
    {
      "cell_type": "code",
      "source": "# Проверьте типы данных, при необходимости измените типы данных, чтобы они соответствовали действительности.\ndf['year'] = df['year'].astype(int)\ndf['selling_price'] = df['selling_price'].astype(float)\ndf['km_driven'] = df['km_driven'].astype(float)\n\ndf['fuel'] = df['fuel'].astype('category')\ndf['seller_type'] = df['seller_type'].astype('category')\ndf['transmission'] = df['transmission'].astype('category')\ndf['owner'] = df['owner'].astype('category')\n\nprint(df.dtypes)",
      "metadata": {
        "id": "WXhXgu29lop3",
        "trusted": true
      },
      "outputs": [
        {
          "name": "stdout",
          "output_type": "stream",
          "text": "car_name           object\nyear                int32\nselling_price     float64\nkm_driven         float64\nfuel             category\nseller_type      category\ntransmission     category\nowner            category\ndtype: object\n"
        }
      ],
      "execution_count": 20
    },
    {
      "cell_type": "markdown",
      "source": "### Приведение типов данных\n\nБыла выполнена проверка типов с помощью `df.dtypes`. В результате:\n\n1. Числовые столбцы (`year`, `selling_price`, `km_driven`) уже приведены к типам `int64` и `float64`, чтбы обеспечивает корректные расчёты и статистику в дальнейшем.\n2. Текстовые столбцы с ограниченным числом уникальных значений (`fuel`, `seller_type`, `transmission`, `owner`) приведены к типу `category`. Это позволяет:\n      - Уменьшить объём памяти\n      - Упростить группировку и визуализацию\n      - Повысить читаемость и интерпретируемость данных",
      "metadata": {}
    },
    {
      "cell_type": "markdown",
      "source": "### 6. Группировка данных",
      "metadata": {
        "id": "lzr0SgqlnmHy"
      }
    },
    {
      "cell_type": "markdown",
      "source": "#### Задание 1",
      "metadata": {
        "id": "QG_dbwzfmZoS"
      }
    },
    {
      "cell_type": "markdown",
      "source": "*`Группировка - тип владельца (owner) по количеству разных коробок\nпередач (transmission) .`*",
      "metadata": {
        "id": "CyCKTB4DmciW"
      }
    },
    {
      "cell_type": "code",
      "source": "# выполните группировку согласно варианту\ngroup1 = df.groupby(['owner','transmission'])['transmission'].size()\nprint(group1)",
      "metadata": {
        "id": "tp8Bl1gumYlI",
        "trusted": true
      },
      "outputs": [
        {
          "name": "stderr",
          "output_type": "stream",
          "text": "<ipython-input-29-ed0197730c02>:2: FutureWarning: The default of observed=False is deprecated and will be changed to True in a future version of pandas. Pass observed=False to retain current behavior or observed=True to adopt the future default and silence this warning.\n  group1 = df.groupby(['owner','transmission'])['transmission'].size()\n"
        },
        {
          "name": "stdout",
          "output_type": "stream",
          "text": "owner                 transmission\nfirst owner           automatic        227\n                      manual          1993\nfourth & above owner  automatic          2\n                      manual            73\nsecond owner          automatic         64\n                      manual           916\ntest drive car        automatic          1\n                      manual            16\nthird owner           automatic         18\n                      manual           271\nName: transmission, dtype: int64\n"
        }
      ],
      "execution_count": 29
    },
    {
      "cell_type": "markdown",
      "source": "### Вывод по заданию 1\n\nАнализ показал, что у всех типов владельцев преобладает **механическая коробка передач**. Особенно это заметно у владельцев с типом `first owner` — 1993 автомобилей с механикой против 227 с автоматом. Это может говорить о том, что новые владельцы чаще покупают более доступные модели, где механика распространена.\n\nУ владельцев типа `fourth & above owner` и `test drive car` количество автомобилей с автоматом крайне мало — всего 2 и 1 соответственно. Это может свидетельствовать о том, что такие автомобили реже переходят из рук в руки или не используются в тест-драйвах.\n\nТаким образом, тип владельца влияет на распространённость типа трансмиссии, и механика остаётся доминирующей.\n",
      "metadata": {
        "id": "jLmhNuq0mms3"
      }
    },
    {
      "cell_type": "markdown",
      "source": "#### Задание 2",
      "metadata": {
        "id": "j0isGCzEne7a"
      }
    },
    {
      "cell_type": "markdown",
      "source": "*`Группировка - тип коробки передач (transmission) по количеству разных типов топлива (fuel). Создать датафрейм. Переименовать столбец с количеством в\n“сount”. Отсортировать по убыванию столбца “count”. \n`*",
      "metadata": {
        "id": "kE2vLBWbne7a"
      }
    },
    {
      "cell_type": "code",
      "source": "# выполните группировку согласно варианту\ngroup2 = df.groupby('transmission')['fuel'].nunique().reset_index()\ngroup2.rename(columns={'fuel': 'count'}, inplace=True)\ngroup2.sort_values(by='count', ascending=False, inplace=True)\nprint(group2)",
      "metadata": {
        "id": "ttn78Zaene7a",
        "trusted": true
      },
      "outputs": [
        {
          "name": "stderr",
          "output_type": "stream",
          "text": "<ipython-input-30-22e5699c52b6>:2: FutureWarning: The default of observed=False is deprecated and will be changed to True in a future version of pandas. Pass observed=False to retain current behavior or observed=True to adopt the future default and silence this warning.\n  group2 = df.groupby('transmission')['fuel'].nunique().reset_index()\n"
        },
        {
          "name": "stdout",
          "output_type": "stream",
          "text": "  transmission  count\n1       manual      6\n0    automatic      3\n"
        }
      ],
      "execution_count": 30
    },
    {
      "cell_type": "markdown",
      "source": "### Вывод по заданию 2\n\nМеханическая коробка передач (`manual`) встречается с **6 различными типами топлива**, тогда как автоматическая (`automatic`) — только с 3. Это говорит о **большем разнообразии моделей** с механикой, возможно, из-за её распространённости в бюджетных и коммерческих сегментах.\n\nТакже это может отражать историческую тенденцию: механика дольше присутствует на рынке, и производители выпускали больше вариаций топлива для таких моделей.\n\nТаким образом, механика — не только более распространённый тип трансмиссии, но и более разнообразный по топливным системам.\n",
      "metadata": {
        "id": "HCyyeAu6ne7a"
      }
    },
    {
      "cell_type": "markdown",
      "source": "#### Задание 3",
      "metadata": {
        "id": "_3fHGp64nhUJ"
      }
    },
    {
      "cell_type": "markdown",
      "source": "*`Сводная таблица (pivot_table) - средняя цена для каждого типа владельца owner. Отсортировать по убыванию. Округлить до двух знаков.\n`*",
      "metadata": {
        "id": "_Bc4ehyKnhUJ"
      }
    },
    {
      "cell_type": "code",
      "source": "# выполните сводную таблицу согласно варианту\npivot1 = df.pivot_table(values='selling_price', index='owner', aggfunc='mean')\npivot1 = pivot1.round(2).sort_values(by='selling_price', ascending=False)\nprint(pivot1)",
      "metadata": {
        "id": "siDovPvQnhUJ",
        "trusted": true
      },
      "outputs": [
        {
          "name": "stderr",
          "output_type": "stream",
          "text": "<ipython-input-31-cdee4716428a>:2: FutureWarning: The default value of observed=False is deprecated and will change to observed=True in a future version of pandas. Specify observed=False to silence this warning and retain the current behavior\n  pivot1 = df.pivot_table(values='selling_price', index='owner', aggfunc='mean')\n"
        },
        {
          "name": "stdout",
          "output_type": "stream",
          "text": "                      selling_price\nowner                              \ntest drive car            954293.94\nfirst owner               565258.97\nsecond owner              341501.17\nthird owner               266142.21\nfourth & above owner      181213.29\n"
        }
      ],
      "execution_count": 31
    },
    {
      "cell_type": "markdown",
      "source": "### Вывод по заданию 3\n\nСамые дорогие автомобили принадлежат типу `test drive car` — средняя цена составляет **954,294 рубля**, что значительно выше остальных. Это может быть связано с тем, что такие автомобили — новые, не бывшие в эксплуатации.\n\nДалее идут `first owner` — **565,259 руб.**, что логично: автомобили у первого владельца обычно в лучшем состоянии и имеют меньший пробег.\n\nНаименьшая средняя цена у владельцев типа `fourth & above owner` — **181,213 руб.**, что может свидетельствовать о сильной амортизации и износе таких машин.\n\nТаким образом, тип владельца напрямую влияет на рыночную стоимость автомобиля.\n",
      "metadata": {
        "id": "1-vw8iyUnhUK"
      }
    },
    {
      "cell_type": "markdown",
      "source": "#### Задание 4",
      "metadata": {
        "id": "FOlw74xCniNo"
      }
    },
    {
      "cell_type": "markdown",
      "source": "*`Сводная таблица (pivot_table) - среднее количество пройденных\nкилометров для каждого года - строки и типа владельца - owner - столбцы.\nОтсортировать по возрастанию year. Округлить до двух знаков.\n`*",
      "metadata": {
        "id": "4tvYwT25niNq"
      }
    },
    {
      "cell_type": "code",
      "source": "# выполните сводную таблицу согласно варианту\npivot2 = df.pivot_table(values='km_driven', index='year', columns='owner', aggfunc='mean')\npivot2 = pivot2.round(2).sort_index()\nprint(pivot2)\n",
      "metadata": {
        "id": "TfJ719g6niNq",
        "trusted": true
      },
      "outputs": [
        {
          "name": "stderr",
          "output_type": "stream",
          "text": "<ipython-input-32-23a371c43d04>:2: FutureWarning: The default value of observed=False is deprecated and will change to observed=True in a future version of pandas. Specify observed=False to silence this warning and retain the current behavior\n  pivot2 = df.pivot_table(values='km_driven', index='year', columns='owner', aggfunc='mean')\n"
        },
        {
          "name": "stdout",
          "output_type": "stream",
          "text": "owner  first owner  fourth & above owner  second owner  test drive car  \\\nyear                                                                     \n1992           NaN             100000.00           NaN             NaN   \n1995           NaN                   NaN     100000.00             NaN   \n1996      60000.00                   NaN      35000.00             NaN   \n1997      70000.00                   NaN      80000.00             NaN   \n1998           NaN              60000.00      76000.00             NaN   \n1999      70000.00              80000.00      65404.00             NaN   \n2000      77500.00              74250.00      77500.00             NaN   \n2001     106500.00              97000.00      95107.80             NaN   \n2002      76000.00              80000.00      87200.00             NaN   \n2003      55683.00              66666.67      98849.36             NaN   \n2004      79765.00             112750.00      91819.53             NaN   \n2005      79471.11              96322.50      79573.69             NaN   \n2006      95359.96             131848.80      94371.49             NaN   \n2007      86642.75             121555.56      87837.78             NaN   \n2008      79704.80              92500.00      86452.80             NaN   \n2009      97589.32             100000.00      94676.42             NaN   \n2010      78574.27             113000.00      97728.40             NaN   \n2011      81739.28             113175.00      96894.24             NaN   \n2012      82938.14             104333.33      86577.36             NaN   \n2013      73645.42              85000.00      81519.06             NaN   \n2014      68922.05             113000.00      85446.54             NaN   \n2015      61263.24             120000.00      69200.24             NaN   \n2016      56888.35                   NaN      59843.57             NaN   \n2017      43035.79              50000.00      42005.85        24585.00   \n2018      28434.67                   NaN      30289.65        13000.00   \n2019      19363.53                   NaN      40400.00         7855.33   \n2020      15084.38               1100.00           NaN          790.33   \n\nowner  third owner  \nyear                \n1992           NaN  \n1995           NaN  \n1996           NaN  \n1997     120000.00  \n1998      65000.00  \n1999      50000.00  \n2000      41371.50  \n2001      64893.17  \n2002      86000.00  \n2003     100000.00  \n2004      95971.38  \n2005     119250.00  \n2006     120940.91  \n2007     101705.88  \n2008     108434.48  \n2009      98945.19  \n2010     114209.68  \n2011      99437.50  \n2012      98896.40  \n2013      82250.00  \n2014     108166.67  \n2015      82500.00  \n2016      71600.00  \n2017      57000.00  \n2018      38900.00  \n2019      15000.00  \n2020           NaN  \n"
        }
      ],
      "execution_count": 32
    },
    {
      "cell_type": "markdown",
      "source": "### Вывод по заданию 4\n\nСводная таблица показывает, как меняется средний пробег автомобилей по годам и типам владельцев. В целом, чем **старше автомобиль**, тем **выше средний пробег**, что ожидаемо.\n\nНапример:\n- В 2006 году у владельцев типа `fourth & above owner` средний пробег — **131,849 км**, что говорит о длительной эксплуатации.\n- У `first owner` в 2020 году — **15,084 км**, а у `test drive car` — всего **790 км**, что подтверждает их почти новое состояние.\n\n`NaN` означает, что **в данной комбинации года и типа владельца нет данных**. Например, в 1992 году не было автомобилей с типом `first owner` или `test drive car` в выборке.\n\nТаким образом, таблица позволяет оценить, как пробег зависит от возраста автомобиля и количества владельцев. Это полезно для оценки износа и остаточной стоимости.\n",
      "metadata": {
        "id": "yqJqvk5qniNr"
      }
    },
    {
      "cell_type": "markdown",
      "source": "### Вывод",
      "metadata": {
        "id": "TpnXb6gip3S8"
      }
    },
    {
      "cell_type": "markdown",
      "source": "В рамках лабораторной работы был проведён первичный анализ набора данных, содержащего информацию об автомобилях, выставленных на продажу. Датасет включает 4344 строки и 8 столбцов, описывающих характеристики автомобилей: название модели, год выпуска, цену, пробег, тип топлива, тип продавца, тип коробки передач и тип владельца. Предметная область — рынок подержанных автомобилей.\n\nНа этапе предобработки были выполнены следующие действия:\n+ Загружен датасет с помощью библиотеки pandas.\n+ Проведена проверка структуры данных с использованием методов info() и describe().\n+ Выявлены и устранены пропущенные значения в столбцах selling_price, km_driven и fuel — заменой на 0, медианное значение и 'unknown' соответственно.\n+ Проведена очистка и переименование столбцов для повышения читаемости (kmdriven → km_driven, seller_Type → seller_type, Name → car_name).\n+ Удалены 763 явных дубликата, а также выполнена предварительная очистка текстовых столбцов для выявления неявных дубликатов.\n+ Приведены типы данных к корректным: числовые столбцы — к int и float, категориальные — к category.\n\nАнализ группировок и сводных таблиц позволил сделать следующие выводы:\n+ У всех типов владельцев преобладает механическая коробка передач, особенно у first owner, где механика встречается почти в 90% случаев. Это может свидетельствовать о популярности механики среди новых владельцев.\n+ Механическая трансмиссия сочетается с большим разнообразием типов топлива (6 против 3 у автомата), что указывает на её широкое распространение в разных сегментах рынка.\n+ Средняя цена автомобиля зависит от типа владельца: самые дорогие — у test drive car (954 тыс. руб.), самые дешёвые — у fourth & above owner (181 тыс. руб.). Это отражает степень износа и рыночную стоимость.\n+ Сводная таблица по пробегу показала ожидаемую зависимость: чем старше автомобиль, тем выше средний пробег. У новых машин (first owner, test drive car) пробег минимален, что подтверждает их недавнюю эксплуатацию.\n\nТаким образом, проведённая работа позволила очистить и структурировать данные, выявить закономерности в распределении характеристик автомобилей и подготовить основу для дальнейшего анализа или построения моделей.\n",
      "metadata": {
        "id": "nqLa096jM1Z8"
      }
    },
    {
      "cell_type": "markdown",
      "source": "### Дополнительное задание",
      "metadata": {
        "id": "Sn3y7og_vjGG"
      }
    },
    {
      "cell_type": "markdown",
      "source": "**`Задание 9. Создать столбец “Категория пробега (kmdriven)” (с помощью категоризации).\nВыделить минимум 3 категории (маленький, большой, средний), фильтрацию\nдля уровня пробега выбрать самостоятельно, аргументировать выбор. Создать\nсводную таблицу: средняя и медианная price по категории пробега и\nseller_type.`**",
      "metadata": {
        "id": "rR6WgHXYvlqD"
      }
    },
    {
      "cell_type": "code",
      "source": "# Определим категории пробега\nprint(df['km_driven'].describe())",
      "metadata": {
        "id": "wG5TGQpevlBq",
        "trusted": true
      },
      "outputs": [
        {
          "name": "stdout",
          "output_type": "stream",
          "text": "count      3580.000000\nmean      69221.844134\nstd       47573.112289\nmin           1.000000\n25%       36000.000000\n50%       60000.000000\n75%       90000.000000\nmax      806599.000000\nName: km_driven, dtype: float64\n"
        }
      ],
      "execution_count": 25
    },
    {
      "cell_type": "markdown",
      "source": "Теперь мы знаем, что минимальный пробег - 1 километр, медиана - 60 тысяч километров, а максимальный - 800+ тысяч километров.\nДля категоризации выберем три категории: маленький пробег (меньше 30 тысяч), средний (от 30 тысяч до 90 тысяч) и большой (от 90 тысяч).\n \nДо 30,000 км — это почти новые авто или с очень малым износом. 30–90 тыс. км — типичный пробег для подержанных машин в хорошем состоянии. Свыше 90 тыс. км — автомобили с высоким износом, часто старше или многократно перепроданные.",
      "metadata": {}
    },
    {
      "cell_type": "code",
      "source": "# Создаем новый столбец\ndef categorize_km(km):\n    if km < 30000:\n        return 'маленький'\n    elif km <= 90000:\n        return 'средний'\n    else:\n        return 'большой'\n\ndf['Категория пробега'] = df['km_driven'].apply(categorize_km)",
      "metadata": {
        "trusted": true
      },
      "outputs": [],
      "execution_count": 26
    },
    {
      "cell_type": "code",
      "source": "# Сводная таблица - средняя и медианная цены\npivot = df.pivot_table(\n    values='selling_price',\n    index='Категория пробега',\n    columns='seller_type',\n    aggfunc=['mean', 'median']\n).round(2)\n\nprint(pivot)",
      "metadata": {
        "trusted": true
      },
      "outputs": [
        {
          "name": "stdout",
          "output_type": "stream",
          "text": "                        mean                                median             \\\nseller_type           Dealer Individual Trustmark Dealer    Dealer Individual   \nКатегория пробега                                                               \nбольшой            634795.41  336165.49              NaN  457499.5   270000.0   \nмаленький          894108.50  631916.74        716500.00  650000.0   500000.0   \nсредний            562118.00  407186.56        868260.87  425000.0   300000.0   \n\n                                    \nseller_type       Trustmark Dealer  \nКатегория пробега                   \nбольшой                        NaN  \nмаленький                 660000.0  \nсредний                   750000.0  \n"
        }
      ],
      "execution_count": 28
    },
    {
      "cell_type": "markdown",
      "source": "### Категоризация пробега и анализ цен\n\nНа основе столбца `km_driven` была выполнена категоризация пробега:\n- `маленький` — менее 30,000 км\n- `средний` — от 30,000 до 90,000 км\n- `большой` — более 90,000 км\n\nТакое деление отражает реальное состояние автомобилей: от почти новых до сильно изношенных.\n\nС помощью сводной таблицы была рассчитана средняя и медианная цена (`selling_price`) для каждой категории пробега в разрезе `seller_type`. Это позволяет оценить, как пробег и тип продавца влияют на стоимость автомобиля.\n\nРезультаты показывают, что автомобили с маленьким пробегом имеют более высокую цену, особенно у официальных продавцов (`Trustmark Dealer`), тогда как машины с большим пробегом дешевле и чаще продаются частными лицами.\n",
      "metadata": {}
    },
    {
      "cell_type": "markdown",
      "source": "**`Задание 23. Создать столбец “Категория стоимости (price)” (с помощью категоризации).\nВыделить минимум 3 категории (низкая, высокая, средняя), фильтрацию для\nуровня цены выбрать самостоятельно, аргументировать выбор. Отфильтровать\nнабор данных. Выбрать только записи, где категория цены= низкая+ выбрать 2\nтипа топлива с минимальной средней стоимостью + transmission c\nмаксимальным количеством записей. Создать сводные таблицы: fuel, yearсредний пробег и медианная цена.`**",
      "metadata": {}
    },
    {
      "cell_type": "code",
      "source": "# Посмотрим статистику для категоризации цен\nprint(df['selling_price'].describe())",
      "metadata": {
        "trusted": true
      },
      "outputs": [
        {
          "name": "stdout",
          "output_type": "stream",
          "text": "count    3.579000e+03\nmean     4.739523e+05\nstd      5.092133e+05\nmin      2.000000e+04\n25%      2.000000e+05\n50%      3.500000e+05\n75%      6.000000e+05\nmax      8.900000e+06\nName: selling_price, dtype: float64\n"
        }
      ],
      "execution_count": 29
    },
    {
      "cell_type": "markdown",
      "source": "Распределим таким образом, что до 250 тыс — бюджетные авто, часто старые или с большим пробегом. 250–600 тыс — средний сегмент, типичный для рынка подержанных машин. Свыше 600 тыс — премиальные модели, новые или с малым пробегом.",
      "metadata": {}
    },
    {
      "cell_type": "code",
      "source": "# Создаем новый столбец \ndef categorize_price(price):\n    if price < 250000:\n        return 'низкая'\n    elif price <= 600000:\n        return 'средняя'\n    else:\n        return 'высокая'\n\ndf['Категория стоимости'] = df['selling_price'].apply(categorize_price)",
      "metadata": {
        "trusted": true
      },
      "outputs": [],
      "execution_count": 30
    },
    {
      "cell_type": "code",
      "source": "# Отфильтруем только низкую стоимость \nlow_price_df = df[df['Категория стоимости'] == 'низкая']",
      "metadata": {
        "trusted": true
      },
      "outputs": [],
      "execution_count": 31
    },
    {
      "cell_type": "code",
      "source": "#  Выберем два типа топлива с минимальной средней ценой\nfuel_avg_price = low_price_df.groupby('fuel')['selling_price'].mean().sort_values()\ntop2_fuels = fuel_avg_price.head(2).index.tolist()",
      "metadata": {
        "trusted": true
      },
      "outputs": [],
      "execution_count": 32
    },
    {
      "cell_type": "code",
      "source": "# Найдем transmission с максимальным количеством записей\ntop_transmission = low_price_df['transmission'].value_counts().idxmax()",
      "metadata": {
        "trusted": true
      },
      "outputs": [],
      "execution_count": 33
    },
    {
      "cell_type": "code",
      "source": "# Отфильтруем по этим условиям \nfiltered_df = low_price_df[\n    (low_price_df['fuel'].isin(top2_fuels)) &\n    (low_price_df['transmission'] == top_transmission)\n]",
      "metadata": {
        "trusted": true
      },
      "outputs": [],
      "execution_count": 34
    },
    {
      "cell_type": "code",
      "source": "# Сводная таблица по fuel, year\npivot_km = filtered_df.pivot_table(\n    values='km_driven',\n    index='fuel',\n    columns='year',\n    aggfunc='mean'\n).round(2)\n\nprint(pivot_km)",
      "metadata": {
        "trusted": true
      },
      "outputs": [
        {
          "name": "stdout",
          "output_type": "stream",
          "text": "year        1992      1995     1997     1998     1999      2000      2001  \\\nfuel                                                                        \nLPG          NaN       NaN      NaN  35000.0      NaN       NaN       NaN   \nPetrol  100000.0  100000.0  80000.0  80000.0  75625.0  72840.27  73544.92   \n\nyear        2002      2003      2004  ...      2011       2012      2013  \\\nfuel                                  ...                                  \nLPG          NaN       NaN       NaN  ...  85000.00  100000.00       NaN   \nPetrol  75384.62  75096.07  80967.26  ...  64213.73   56699.16  55969.97   \n\nyear        2014       2015     2016      2017      2018     2019     2020  \nfuel                                                                        \nLPG     90000.00  110000.00      NaN       NaN       NaN      NaN      NaN  \nPetrol  56155.46   57996.81  54608.7  40307.69  21872.44  10000.0  80000.0  \n\n[2 rows x 26 columns]\n"
        }
      ],
      "execution_count": 37
    },
    {
      "cell_type": "code",
      "source": "# Медианная цена по fuel, year\npivot_price = filtered_df.pivot_table(\n    values='selling_price',\n    index='fuel',\n    columns='year',\n    aggfunc='median'\n).round(2)\n\nprint(pivot_price)",
      "metadata": {
        "trusted": true
      },
      "outputs": [
        {
          "name": "stdout",
          "output_type": "stream",
          "text": "year       1992     1995     1997     1998     1999     2000     2001  \\\nfuel                                                                    \nLPG         NaN      NaN      NaN  50000.0      NaN      NaN      NaN   \nPetrol  50000.0  95000.0  50000.0  65000.0  60000.0  61000.0  63500.0   \n\nyear       2002     2003     2004  ...      2011      2012      2013  \\\nfuel                               ...                                 \nLPG         NaN      NaN      NaN  ...  214999.5  180000.0       NaN   \nPetrol  80000.0  70000.0  90000.0  ...  151000.0  180000.0  172500.0   \n\nyear        2014      2015      2016      2017      2018      2019      2020  \nfuel                                                                          \nLPG     210000.0  240000.0       NaN       NaN       NaN       NaN       NaN  \nPetrol  200000.0  200000.0  225000.0  210000.0  200000.0  210000.0  225000.0  \n\n[2 rows x 26 columns]\n"
        }
      ],
      "execution_count": 38
    },
    {
      "cell_type": "markdown",
      "source": "## Вывод по сводным таблицам `pivot_km` и `pivot_price`\n\nВ рамках анализа были построены две сводные таблицы по отфильтрованным данным с низкой категорией стоимости:\n\n- **`pivot_km`** — средний пробег (`km_driven`) по типу топлива (`fuel`) и году выпуска (`year`).\n- **`pivot_price`** — медианная цена (`selling_price`) по типу топлива и году выпуска.\n\nАнализ охватывает два типа топлива: **LPG** и **Petrol**, которые были выбраны как наиболее бюджетные по средней стоимости. Таблицы позволяют оценить динамику пробега и цен в зависимости от года и типа топлива.\n\n### Основные наблюдения:\n\n- Средний пробег у автомобилей с топливом `Petrol` постепенно снижается с годами, что отражает естественное обновление автопарка. У `LPG` значения пробега более фрагментарны, но также демонстрируют снижение в новых моделях.\n- Медианная цена у `Petrol` и `LPG` автомобилей показывает ожидаемую тенденцию: чем новее автомобиль, тем выше его стоимость. При этом `Petrol` остаётся более распространённым и стабильным по ценам.\n- В отдельных годах отсутствуют значения (`NaN`), что связано с отсутствием автомобилей соответствующего типа топлива и года в выборке. Это нормально и не влияет на общую интерпретацию.\n\n### Вывод:\n\nСводные таблицы подтверждают, что в сегменте недорогих автомобилей:\n- `Petrol` остаётся наиболее массовым и предсказуемым по характеристикам.\n- `LPG` встречается реже, но также демонстрирует закономерности в пробеге и цене.\n- Год выпуска — ключевой фактор, влияющий на пробег и стоимость, особенно в бюджетном сегменте.\n\nПолученные результаты могут быть полезны для оценки остаточной стоимости автомобилей, планирования закупок или построения моделей прогнозирования.\n",
      "metadata": {}
    }
  ]
}