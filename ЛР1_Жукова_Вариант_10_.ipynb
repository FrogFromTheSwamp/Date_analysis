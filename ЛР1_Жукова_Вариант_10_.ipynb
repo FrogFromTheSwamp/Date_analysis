{
  "metadata": {
    "kernelspec": {
      "name": "python",
      "display_name": "Python (Pyodide)",
      "language": "python"
    },
    "language_info": {
      "codemirror_mode": {
        "name": "python",
        "version": 3
      },
      "file_extension": ".py",
      "mimetype": "text/x-python",
      "name": "python",
      "nbconvert_exporter": "python",
      "pygments_lexer": "ipython3",
      "version": "3.8"
    },
    "colab": {
      "provenance": []
    }
  },
  "nbformat_minor": 4,
  "nbformat": 4,
  "cells": [
    {
      "cell_type": "markdown",
      "source": "**Цель работы:**\n\nОсуществить предварительную обработку данных csv-файла, выявить и устранить проблемы в этих данных.",
      "metadata": {
        "id": "bri_pAriNFqN"
      }
    },
    {
      "cell_type": "markdown",
      "source": "# Загрузка набора данных",
      "metadata": {
        "id": "r_e-GeJmgZ8l"
      }
    },
    {
      "cell_type": "markdown",
      "source": "### Описание предметной области",
      "metadata": {
        "id": "eeq9ZAbSguQS"
      }
    },
    {
      "cell_type": "markdown",
      "source": "Вариант №10\n\nНабор данных: auto.csv\n\nАтрибуты:\n...",
      "metadata": {
        "id": "XHbH8zNIg0Ib"
      }
    },
    {
      "cell_type": "markdown",
      "source": "### 1.Чтение файла (набора данных)",
      "metadata": {
        "id": "Lwin9ia7hT1i"
      }
    },
    {
      "cell_type": "code",
      "source": "# импорт библиотек, чтение файла с помощью pandas\nimport pandas as pd\ndf = pd.read_csv('auto.csv')",
      "metadata": {
        "id": "a5dYQO5YhOYa",
        "trusted": true
      },
      "outputs": [],
      "execution_count": null
    },
    {
      "cell_type": "markdown",
      "source": "### 2. Обзор данных",
      "metadata": {
        "id": "p82p53SvhjLN"
      }
    },
    {
      "cell_type": "markdown",
      "source": "2.1 Вывод первых 20 строк с помощью метода head.",
      "metadata": {
        "id": "eAYzXaLrh-qh"
      }
    },
    {
      "cell_type": "code",
      "source": "# применить метод head\nprint(df.head(21))",
      "metadata": {
        "id": "7yMo3VZ_hotx",
        "trusted": true
      },
      "outputs": [
        {
          "name": "stdout",
          "output_type": "stream",
          "text": "                               Name  year  SellingPrice  kmdriven     fuel  \\\n0                     Maruti 800 AC  2007       60000.0   70000.0   Petrol   \n1          Maruti Wagon R LXI Minor  2007      135000.0   50000.0   Petrol   \n2              Hyundai Verna 1.6 SX  2012      600000.0  100000.0   Diesel   \n3            Datsun RediGO T Option  2017      250000.0   46000.0   Petrol   \n4             Honda Amaze VX i-DTEC  2014      450000.0  141000.0   Diesel   \n5              Maruti Alto LX BSIII  2007      140000.0  125000.0   Petrol   \n6         Hyundai Xcent 1.2 Kappa S  2016      550000.0   25000.0   Petrol   \n7         Tata Indigo Grand Petroll  2014      240000.0   60000.0   Petrol   \n8          Hyundai Creta 1.6 VTVT S  2015      850000.0   25000.0  Petroll   \n9          Maruti Celerio Green VXI  2017      365000.0   78000.0      CNG   \n10          Chevrolet Sail 1.2 Base  2015      260000.0   35000.0   Petrol   \n11         Tata Indigo Grand Petrol  2014      250000.0  100000.0   Petrol   \n12  Toyota Corolla Altis 1.8 VL CVT  2018     1650000.0   25000.0   Petrol   \n13                    Maruti 800 AC  2007       60000.0   70000.0   Petrol   \n14         Maruti Wagon R LXI Minor  2007      135000.0   50000.0   Petrol   \n15             Hyundai Verna 1.6 SX  2012      600000.0  100000.0   Diesel   \n16           Datsun RediGO T Option  2017      250000.0   46000.0   Petrol   \n17            Honda Amaze VX i-DTEC  2014      450000.0  141000.0   Diesel   \n18             Maruti Alto LX BSIII  2007      140000.0  125000.0   Petrol   \n19        Hyundai Xcent 1.2 Kappa S  2016      550000.0   25000.0   Petrol   \n20         Tata Indigo Grand Petrol  2014      240000.0   60000.0   Petrol   \n\n   seller_Type transmission         owner  \n0   Individual       Manual   First Owner  \n1   Individual       Manual   First Owner  \n2   Individual       Manual   First Owner  \n3   Individual       Manual   First Owner  \n4   Individual       Manual  Second Owner  \n5   Individual       Manual   First Owner  \n6   Individual       Manual   First Owner  \n7   Individual       Manual  Second Owner  \n8   Individual       Manual   First Owner  \n9   Individual       Manual   First Owner  \n10  Individual       Manual   First Owner  \n11  Individual       Manual   First Owner  \n12      Dealer    Automatic   First Owner  \n13  Individual       Manual   First Owner  \n14  Individual       Manual   First Owner  \n15  Individual       Manual   First Owner  \n16  Individual       Manual   First Owner  \n17  Individual       Manual  Second Owner  \n18  Individual       Manual   First Owner  \n19  Individual       Manual   First Owner  \n20  Individual       Manual  Second Owner  \n"
        }
      ],
      "execution_count": 6
    },
    {
      "cell_type": "markdown",
      "source": "2.2 Оценка данных с помощью метода info.",
      "metadata": {
        "id": "Ze-lXxLMhpWv"
      }
    },
    {
      "cell_type": "code",
      "source": "# выполнит метод info\nprint(df.info())",
      "metadata": {
        "id": "bjhngmaLiGM-",
        "trusted": true
      },
      "outputs": [
        {
          "name": "stdout",
          "output_type": "stream",
          "text": "<class 'pandas.core.frame.DataFrame'>\nRangeIndex: 4344 entries, 0 to 4343\nData columns (total 8 columns):\n #   Column        Non-Null Count  Dtype  \n---  ------        --------------  -----  \n 0   Name          4344 non-null   object \n 1   year          4344 non-null   int64  \n 2   SellingPrice  4342 non-null   float64\n 3   kmdriven      4343 non-null   float64\n 4   fuel          4343 non-null   object \n 5   seller_Type   4344 non-null   object \n 6   transmission  4344 non-null   object \n 7   owner         4344 non-null   object \ndtypes: float64(2), int64(1), object(5)\nmemory usage: 186.7+ KB\nNone\n"
        }
      ],
      "execution_count": 4
    },
    {
      "cell_type": "markdown",
      "source": "2.3 Оценка данных с помощью метода describe.",
      "metadata": {
        "id": "06PDq9DAiMAY"
      }
    },
    {
      "cell_type": "code",
      "source": "# оцените числовые столбцы с помощью describe\nprint(df.describe())",
      "metadata": {
        "id": "cTVFwzO1jQfN",
        "trusted": true
      },
      "outputs": [
        {
          "name": "stdout",
          "output_type": "stream",
          "text": "              year  SellingPrice       kmdriven\ncount  4344.000000  4.342000e+03    4343.000000\nmean   2013.092311  5.039987e+05   66193.063320\nstd       4.214543  5.784465e+05   46636.648764\nmin    1992.000000  2.000000e+04       1.000000\n25%    2011.000000  2.100000e+05   35000.000000\n50%    2014.000000  3.500000e+05   60000.000000\n75%    2016.000000  6.000000e+05   90000.000000\nmax    2020.000000  8.900000e+06  806599.000000\n"
        }
      ],
      "execution_count": 7
    },
    {
      "cell_type": "markdown",
      "source": "\n---\n\n**Сделать выводы. Вы должны понимать, что означает тот или иной столбец, чтобы\n ответить на вопросы на защите.**\n\n\n ---\n",
      "metadata": {
        "id": "oOZUrZGuiGqc"
      }
    },
    {
      "cell_type": "markdown",
      "source": "### Общая информация о датасете\n\n1. В датасете содержится **4344** строки и **8** столбцов\n2. Типы данных:\n    + **5 столбцов** имеют тип данных *'object'* (это текстовые данные, например название автомобиля, тип топлива)\n    + **2 столбца** имеют тип *'float64'* (это числовые значения с плавающей точкой (`SellingPrice`, `kmdriven`))\n    + **1 столбец** имеет тип *'int64'* (это целочисленный год выпуска (`year`))\n3. Почти все значения заполнены, но:\n   + В столбце `SellingPrice` отсутствуют **2 значения**\n   + В столбце `kmdriven` отсутствует **1 значение**\n   + В столбце `fuel` отсутствует **1 значение**\n\nЭто говорит о наличии **единичных пропусков**, которые нужно будет обработать на следующем этапе.\n\n### Статистический обзор числовых столбцов\n\n1. **Год выпуска (`year`)**:\n      - Диапазон: от **1992** до **2020** года.\n      - Средний год: **2013**, медианный — **2014**.\n      - Это говорит о том, что большинство автомобилей — относительно новые, с преобладанием моделей после 2010 года.\n\n2. **Цена продажи (`SellingPrice`)**:\n      - Диапазон: от **20,000** до **8,900,000** (вероятно, в рублях).\n      - Средняя цена: около **503,998**.\n      - Распределение цен сильно варьируется, что может указывать на наличие как бюджетных, так и премиальных автомобилей.\n\n3. **Пробег (`kmdriven`)**:\n      - Диапазон: от **1 км** до **806,599 км**.\n      - Средний пробег: около **66,193 км**, медианный — **60,000 км**.\n      - Большинство автомобилей имеют пробег в пределах **35,000–90,000 км**, что считается нормальным для подержанных машин.\n\nЭти данные помогут в дальнейшем выявить выбросы, сегментировать автомобили по возрасту и пробегу, а также построить модели оценки стоимости.",
      "metadata": {}
    },
    {
      "cell_type": "markdown",
      "source": " 2.4 Оценка названий столбцов",
      "metadata": {
        "id": "JTbo0IGDiHxn"
      }
    },
    {
      "cell_type": "code",
      "source": "# Вывести на экран названия столбцов с помощью df.columns. Выявить проблемы с названиями, если они есть. При необходимости переименовать столбцы. Если проблемы не обнаружены также дать пояснения.\nprint(df.columns)",
      "metadata": {
        "id": "9NEyi2Odik3e",
        "trusted": true
      },
      "outputs": [
        {
          "name": "stdout",
          "output_type": "stream",
          "text": "Index(['Name', 'year', 'SellingPrice', 'kmdriven', 'fuel', 'seller_Type',\n       'transmission', 'owner'],\n      dtype='object')\n"
        }
      ],
      "execution_count": 8
    },
    {
      "cell_type": "markdown",
      "source": "### Анализ названий столбцов\n\nВ целом, большинство названий понятны, но выявлены следующие проблемы:\n- Столбец `kmdriven` содержит опечатку. Корректное название — `km_driven`.\n- Столбец `seller_Type` использует смешанный стиль написания. Рекомендуется привести к единому стилю — `snake_case`, например `seller_type`.\n- Название `Name` можно уточнить, чтобы оно отражало суть — например, `car_name` или `model`.\n- Название `SellingPrice` выполнено в стиле `camelCase`, нужно исправить в `snake_case`.",
      "metadata": {}
    },
    {
      "cell_type": "code",
      "source": "# переименование при необходимости\ndf.rename(columns={\n    'kmdriven': 'km_driven',\n    'seller_Type': 'seller_type',\n    'Name': 'car_name',\n    'SellingPrice': 'selling_price'\n}, inplace=True)",
      "metadata": {
        "id": "QSJBLl4qjjP8",
        "trusted": true
      },
      "outputs": [],
      "execution_count": 11
    },
    {
      "cell_type": "code",
      "source": "# Проверим результат выполнения команды\nprint(df.columns)",
      "metadata": {
        "trusted": true
      },
      "outputs": [
        {
          "name": "stdout",
          "output_type": "stream",
          "text": "Index(['car_name', 'year', 'selling_price', 'km_driven', 'fuel', 'seller_type',\n       'transmission', 'owner'],\n      dtype='object')\n"
        }
      ],
      "execution_count": 12
    },
    {
      "cell_type": "markdown",
      "source": "### 3. Проверка пропусков",
      "metadata": {
        "id": "V0tLQcyrjnA_"
      }
    },
    {
      "cell_type": "code",
      "source": "# Проверить данные на наличие пропусков и устранить их, если они есть (пропуски необходимо либо удалить, либо заменить каким-то значением).",
      "metadata": {
        "id": "xuTz-Avjj9AW"
      },
      "outputs": [],
      "execution_count": null
    },
    {
      "cell_type": "markdown",
      "source": "\n---\n\n**Вы должны аргументировать на защите, почему были выполнены те или иные действия с пропусками, а также знать другие способы работы с пропусками, чтобы\n ответить на вопросы на защите.**\n\n\n ---",
      "metadata": {
        "id": "efZ7vgSVkPQH"
      }
    },
    {
      "cell_type": "markdown",
      "source": "### 4. Проверка дубликатов",
      "metadata": {
        "id": "kkyrXXHikEXk"
      }
    },
    {
      "cell_type": "markdown",
      "source": "#### Проверка явных дубликатов",
      "metadata": {
        "id": "ImqHvr3okIQ6"
      }
    },
    {
      "cell_type": "code",
      "source": "",
      "metadata": {
        "id": "qu1oh-e5lDZ1"
      },
      "outputs": [],
      "execution_count": null
    },
    {
      "cell_type": "code",
      "source": "# удалите дубликаты, если они есть",
      "metadata": {
        "id": "ntArgvChkK26"
      },
      "outputs": [],
      "execution_count": null
    },
    {
      "cell_type": "markdown",
      "source": "#### Проверка неявных дубликатов",
      "metadata": {
        "id": "VeHTMcOmkLSw"
      }
    },
    {
      "cell_type": "code",
      "source": "",
      "metadata": {
        "id": "-uOPKHlVlGo8"
      },
      "outputs": [],
      "execution_count": null
    },
    {
      "cell_type": "code",
      "source": "# удалите дубликаты, если они есть",
      "metadata": {
        "id": "89tMFEQ2k_M7"
      },
      "outputs": [],
      "execution_count": null
    },
    {
      "cell_type": "markdown",
      "source": "---\n\n**Вы должны аргументировать на защите, почему были выполнены те или иные действия с дубликатами, знать, что такое явные и неявные дубликаты и способы работы с ними, чтобы ответить на вопросы на защите.**\n\n\n ---",
      "metadata": {
        "id": "GMcnDpOmlKhU"
      }
    },
    {
      "cell_type": "markdown",
      "source": "### 5. Провека типов данных",
      "metadata": {
        "id": "md9GhfYMlbi7"
      }
    },
    {
      "cell_type": "code",
      "source": "",
      "metadata": {
        "id": "lXTroENaluCW"
      },
      "outputs": [],
      "execution_count": null
    },
    {
      "cell_type": "code",
      "source": "# Проверьте типы данных, при необходимости измените типы данных, чтобы они соответствовали действительности.",
      "metadata": {
        "id": "WXhXgu29lop3"
      },
      "outputs": [],
      "execution_count": null
    },
    {
      "cell_type": "markdown",
      "source": "---\n\n**Обратите внимание, что во всех вариантах необходимо сделать приведение типов. Будьте готовы на защите аргументировать проверку типов (почему выполнены те или иные преобразования).**\n\n\n ---",
      "metadata": {
        "id": "DPDBNN4dlx7W"
      }
    },
    {
      "cell_type": "markdown",
      "source": "### 6. Группировка данных",
      "metadata": {
        "id": "lzr0SgqlnmHy"
      }
    },
    {
      "cell_type": "markdown",
      "source": "#### Задание 1",
      "metadata": {
        "id": "QG_dbwzfmZoS"
      }
    },
    {
      "cell_type": "markdown",
      "source": "*`Формулировка задания`*",
      "metadata": {
        "id": "CyCKTB4DmciW"
      }
    },
    {
      "cell_type": "code",
      "source": "# выполните группировку согласно варианту",
      "metadata": {
        "id": "tp8Bl1gumYlI"
      },
      "outputs": [],
      "execution_count": null
    },
    {
      "cell_type": "markdown",
      "source": "**`Сделайте вывод - интерпретацию - что можно увидеть из результата данной группировки?`**",
      "metadata": {
        "id": "jLmhNuq0mms3"
      }
    },
    {
      "cell_type": "markdown",
      "source": "---\n\n**Обратите внимание, что на защите вы должны ориентироваться в синтаксисе. При необходимости нужно быть готовым изменить код по просьбе преподавателя. Например, вместо среднего значения подсчитать медиану и т.д.**\n\n\n ---",
      "metadata": {
        "id": "quMr70SmnMXS"
      }
    },
    {
      "cell_type": "markdown",
      "source": "#### Задание 2",
      "metadata": {
        "id": "j0isGCzEne7a"
      }
    },
    {
      "cell_type": "markdown",
      "source": "*`Формулировка задания`*",
      "metadata": {
        "id": "kE2vLBWbne7a"
      }
    },
    {
      "cell_type": "code",
      "source": "# выполните группировку согласно варианту",
      "metadata": {
        "id": "ttn78Zaene7a"
      },
      "outputs": [],
      "execution_count": null
    },
    {
      "cell_type": "markdown",
      "source": "**`Сделайте вывод - интерпретацию - что можно увидеть из результата данной группировки?`**",
      "metadata": {
        "id": "HCyyeAu6ne7a"
      }
    },
    {
      "cell_type": "markdown",
      "source": "---\n\n**Обратите внимание, что на защите вы должны ориентироваться в синтаксисе. При необходимости нужно быть готовым изменить код по просьбе преподавателя. Например, вместо среднего значения подсчитать медиану и т.д.**\n\n\n ---",
      "metadata": {
        "id": "NKLZ0m7Nne7b"
      }
    },
    {
      "cell_type": "markdown",
      "source": "#### Задание 3",
      "metadata": {
        "id": "_3fHGp64nhUJ"
      }
    },
    {
      "cell_type": "markdown",
      "source": "*`Формулировка задания`*",
      "metadata": {
        "id": "_Bc4ehyKnhUJ"
      }
    },
    {
      "cell_type": "code",
      "source": "# выполните сводную таблицу согласно варианту",
      "metadata": {
        "id": "siDovPvQnhUJ"
      },
      "outputs": [],
      "execution_count": null
    },
    {
      "cell_type": "markdown",
      "source": "**`Сделайте вывод - интерпретацию - что можно увидеть из результата данной сводной таблицы?`**",
      "metadata": {
        "id": "1-vw8iyUnhUK"
      }
    },
    {
      "cell_type": "markdown",
      "source": "---\n\n**Обратите внимание, что на защите вы должны ориентироваться в синтаксисе. При необходимости нужно быть готовым изменить код по просьбе преподавателя. Например, вместо среднего значения подсчитать медиану и т.д.**\n\n\n ---",
      "metadata": {
        "id": "wKFm0zDenhUK"
      }
    },
    {
      "cell_type": "markdown",
      "source": "#### Задание 4",
      "metadata": {
        "id": "FOlw74xCniNo"
      }
    },
    {
      "cell_type": "markdown",
      "source": "*`Формулировка задания`*",
      "metadata": {
        "id": "4tvYwT25niNq"
      }
    },
    {
      "cell_type": "code",
      "source": "# выполните сводную таблицу согласно варианту",
      "metadata": {
        "id": "TfJ719g6niNq"
      },
      "outputs": [],
      "execution_count": null
    },
    {
      "cell_type": "markdown",
      "source": "**`Сделайте вывод - интерпретацию - что можно увидеть из результата выполнения данного кода?`**",
      "metadata": {
        "id": "yqJqvk5qniNr"
      }
    },
    {
      "cell_type": "markdown",
      "source": "---\n\n**Обратите внимание, что на защите вы должны ориентироваться в синтаксисе. При необходимости нужно быть готовым изменить код по просьбе преподавателя. Например, вместо среднего значения подсчитать медиану и т.д.**\n\n\n ---",
      "metadata": {
        "id": "tIkuqJKUniNs"
      }
    },
    {
      "cell_type": "markdown",
      "source": "### Вывод",
      "metadata": {
        "id": "TpnXb6gip3S8"
      }
    },
    {
      "cell_type": "markdown",
      "source": "\n***`Сделать расширенный вывод. `***\n\nВывод должен описывать результаты исследования: какой набор данных вы анализировали (предметная область), какие методы предобработки применили, какие выводы из группировок и сводных таблиц можно сделать (они могут повторять выводы выше) и т.п. Объём вывода, как правило не более 0.5-0.75 страницы А4, всё таки вывод должен быть конкретным (без теории и “воды”).\n",
      "metadata": {
        "id": "nqLa096jM1Z8"
      }
    },
    {
      "cell_type": "markdown",
      "source": "### Дополнительное задание",
      "metadata": {
        "id": "Sn3y7og_vjGG"
      }
    },
    {
      "cell_type": "markdown",
      "source": "**`Подробная формулировка задания`**",
      "metadata": {
        "id": "rR6WgHXYvlqD"
      }
    },
    {
      "cell_type": "code",
      "source": "# код выполнения задания",
      "metadata": {
        "id": "wG5TGQpevlBq"
      },
      "outputs": [],
      "execution_count": null
    },
    {
      "cell_type": "markdown",
      "source": "***`Подробный вывод по заданию, описание полученных результатов`***",
      "metadata": {
        "id": "y-qpTuhTvon3"
      }
    }
  ]
}